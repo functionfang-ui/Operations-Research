{
 "cells": [
  {
   "cell_type": "code",
   "execution_count": 13,
   "metadata": {
    "tags": []
   },
   "outputs": [
    {
     "output_type": "stream",
     "name": "stdout",
     "text": "56\n"
    }
   ],
   "source": [
    "import numpy as np\n",
    "from skimage.measure import compare_mse\n",
    "\n",
    "Y = np.load('data/npy/Y.npy')\n",
    "A = np.load('data/npy/A.npy')\n",
    "\n",
    "print(np.linalg.matrix_rank(A))"
   ]
  },
  {
   "cell_type": "code",
   "execution_count": 14,
   "metadata": {
    "tags": []
   },
   "outputs": [
    {
     "output_type": "stream",
     "name": "stdout",
     "text": "[276.025077   679.7026769  655.098004   162.6117352  118.9976816\n 498.364052   959.7439585  340.3857267  585.267751   223.8119395\n 751.2670593  255.0951155  505.9570517  699.0767227  890.9032525\n 959.2914252  547.21553    138.6244428  149.2940056  257.5082541\n 840.717256   254.282179   814.2848261  243.5249687  929.2636232\n 349.983766   196.5952504  251.083858   616.0446761  473.2888489\n 351.6595071  830.8286279  585.2640912  549.7236083  917.1936638\n 285.8390188  757.2002291  753.7290943  380.445847   567.8216407\n  75.85428956  53.95011867 530.797553   779.1672301  934.0106842\n 129.9062085  568.8236609  469.3906411   11.9020695  337.1226444\n 162.1823082  794.2845407  311.215042   528.5331355  601.9819414\n 262.9712845 ]\n"
    }
   ],
   "source": [
    "A_mirror = A.T\n",
    "A_inv = np.linalg.inv(A_mirror @ A)\n",
    "my_ans = A_inv @ A_mirror @ Y\n",
    "print(my_ans)"
   ]
  },
  {
   "cell_type": "code",
   "execution_count": 15,
   "metadata": {
    "tags": []
   },
   "outputs": [
    {
     "output_type": "stream",
     "name": "stdout",
     "text": "[276.025077   679.7026769  655.098004   162.6117352  118.9976816\n 498.364052   959.7439585  340.3857267  585.267751   223.8119395\n 751.2670593  255.0951155  505.9570517  699.0767227  890.9032525\n 959.2914252  547.21553    138.6244428  149.2940056  257.5082541\n 840.717256   254.282179   814.2848261  243.5249687  929.2636232\n 349.983766   196.5952504  251.083858   616.0446761  473.2888489\n 351.6595071  830.8286279  585.2640912  549.7236083  917.1936638\n 285.8390188  757.2002291  753.7290943  380.445847   567.8216407\n  75.85428956  53.95011867 530.797553   779.1672301  934.0106842\n 129.9062085  568.8236609  469.3906411   11.9020695  337.1226444\n 162.1823082  794.2845407  311.215042   528.5331355  601.9819414\n 262.9712845 ]\n"
    }
   ],
   "source": [
    "ans = np.load('data/npy/ans.npy')\n",
    "print(ans)"
   ]
  },
  {
   "cell_type": "code",
   "execution_count": 16,
   "metadata": {
    "tags": []
   },
   "outputs": [
    {
     "output_type": "stream",
     "name": "stdout",
     "text": "1.2351520607318136e-10\n"
    }
   ],
   "source": [
    "print(np.sqrt(compare_mse(ans, my_ans)))"
   ]
  }
 ],
 "metadata": {
  "language_info": {
   "codemirror_mode": {
    "name": "ipython",
    "version": 3
   },
   "file_extension": ".py",
   "mimetype": "text/x-python",
   "name": "python",
   "nbconvert_exporter": "python",
   "pygments_lexer": "ipython3",
   "version": "3.8.3-final"
  },
  "orig_nbformat": 2,
  "kernelspec": {
   "name": "python38364bit47eb47eadf8e435fa39c897d2287db76",
   "display_name": "Python 3.8.3 64-bit"
  }
 },
 "nbformat": 4,
 "nbformat_minor": 2
}